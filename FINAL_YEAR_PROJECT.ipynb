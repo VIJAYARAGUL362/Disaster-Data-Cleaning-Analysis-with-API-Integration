{
  "cells": [
    {
      "cell_type": "markdown",
      "metadata": {
        "id": "view-in-github",
        "colab_type": "text"
      },
      "source": [
        "<a href=\"https://colab.research.google.com/github/VIJAYARAGUL362/Disaster-Data-Cleaning-Analysis-with-API-Integration/blob/main/FINAL_YEAR_PROJECT.ipynb\" target=\"_parent\"><img src=\"https://colab.research.google.com/assets/colab-badge.svg\" alt=\"Open In Colab\"/></a>"
      ]
    },
    {
      "cell_type": "markdown",
      "metadata": {
        "id": "2RDwimlXVcFt"
      },
      "source": [
        "# **IMPORTING THE LIBRARIES**"
      ]
    },
    {
      "cell_type": "code",
      "execution_count": null,
      "metadata": {
        "colab": {
          "base_uri": "https://localhost:8080/"
        },
        "id": "ES9otUkK2Qkw",
        "outputId": "443d8ce9-5996-4d1b-c325-c419c1f59833"
      },
      "outputs": [
        {
          "output_type": "stream",
          "name": "stdout",
          "text": [
            "Collecting country_converter\n",
            "  Downloading country_converter-1.3-py3-none-any.whl.metadata (25 kB)\n",
            "Requirement already satisfied: pandas>=1.0 in /usr/local/lib/python3.11/dist-packages (from country_converter) (2.2.2)\n",
            "Requirement already satisfied: numpy>=1.23.2 in /usr/local/lib/python3.11/dist-packages (from pandas>=1.0->country_converter) (2.0.2)\n",
            "Requirement already satisfied: python-dateutil>=2.8.2 in /usr/local/lib/python3.11/dist-packages (from pandas>=1.0->country_converter) (2.9.0.post0)\n",
            "Requirement already satisfied: pytz>=2020.1 in /usr/local/lib/python3.11/dist-packages (from pandas>=1.0->country_converter) (2025.2)\n",
            "Requirement already satisfied: tzdata>=2022.7 in /usr/local/lib/python3.11/dist-packages (from pandas>=1.0->country_converter) (2025.2)\n",
            "Requirement already satisfied: six>=1.5 in /usr/local/lib/python3.11/dist-packages (from python-dateutil>=2.8.2->pandas>=1.0->country_converter) (1.17.0)\n",
            "Downloading country_converter-1.3-py3-none-any.whl (47 kB)\n",
            "\u001b[2K   \u001b[90m━━━━━━━━━━━━━━━━━━━━━━━━━━━━━━━━━━━━━━━━\u001b[0m \u001b[32m47.2/47.2 kB\u001b[0m \u001b[31m2.6 MB/s\u001b[0m eta \u001b[36m0:00:00\u001b[0m\n",
            "\u001b[?25hInstalling collected packages: country_converter\n",
            "Successfully installed country_converter-1.3\n"
          ]
        }
      ],
      "source": [
        "!pip install country_converter\n",
        "import pandas as pd\n",
        "import requests,time,re\n",
        "import country_converter as coco"
      ]
    },
    {
      "cell_type": "markdown",
      "metadata": {
        "id": "yrxLLO8hVgiV"
      },
      "source": [
        "# **IMPORTING THE DATASET**\n"
      ]
    },
    {
      "cell_type": "code",
      "execution_count": null,
      "metadata": {
        "id": "XujuqrKe4DsV"
      },
      "outputs": [],
      "source": [
        "dataset = pd.read_excel(\"dataset.xlsx\")"
      ]
    },
    {
      "cell_type": "code",
      "execution_count": null,
      "metadata": {
        "id": "_CECAIIq4uRx"
      },
      "outputs": [],
      "source": [
        "dataframe = pd.DataFrame(dataset)"
      ]
    },
    {
      "cell_type": "markdown",
      "metadata": {
        "id": "EEe6u4LRVCD3"
      },
      "source": [
        "# **DATA SELECTION**"
      ]
    },
    {
      "cell_type": "code",
      "execution_count": null,
      "metadata": {
        "id": "k7JAMOxp45az"
      },
      "outputs": [],
      "source": [
        "dataframe.drop([\"DisNo.\",\"Historic\",\"Classification Key\",\"Disaster Group\",\"Disaster Subgroup\",\"Disaster Subtype\",\"External IDs\"],axis=1,inplace = True)"
      ]
    },
    {
      "cell_type": "code",
      "execution_count": null,
      "metadata": {
        "id": "Kl1jJS6O46t7"
      },
      "outputs": [],
      "source": [
        "dataframe.drop([\"Event Name\",\"Country\",\"Subregion\",\"Region\",\"Origin\",\"Associated Types\",\"OFDA/BHA Response\"],axis=1,inplace=True)"
      ]
    },
    {
      "cell_type": "code",
      "execution_count": null,
      "metadata": {
        "id": "SWErCgIU5Wzs"
      },
      "outputs": [],
      "source": [
        "dataframe.drop([\"Appeal\",\"Declaration\",\"AID Contribution ('000 US$)\",\"Magnitude Scale\",\"River Basin\",\"Reconstruction Costs ('000 US$)\",\"Reconstruction Costs, Adjusted ('000 US$)\"],axis = 1,inplace=True)"
      ]
    },
    {
      "cell_type": "code",
      "execution_count": null,
      "metadata": {
        "id": "u4c76TcV6t0o"
      },
      "outputs": [],
      "source": [
        "dataframe.drop([\"No. Homeless\",\"Insured Damage ('000 US$)\",\"Insured Damage, Adjusted ('000 US$)\",\"Total Damage ('000 US$)\",\"Total Damage, Adjusted ('000 US$)\",\"Admin Units\",\"Entry Date\",\"Last Update\"],axis=1,inplace=True)"
      ]
    },
    {
      "cell_type": "markdown",
      "metadata": {
        "id": "w-NJADEQUn5P"
      },
      "source": [
        "# **DATA PRE-PROCESSING**"
      ]
    },
    {
      "cell_type": "markdown",
      "metadata": {
        "id": "23nRMkHy9Elc"
      },
      "source": [
        "HANDLING MISSING VALUES"
      ]
    },
    {
      "cell_type": "code",
      "execution_count": null,
      "metadata": {
        "colab": {
          "base_uri": "https://localhost:8080/"
        },
        "id": "9INC3feD7UAY",
        "outputId": "e2f667bd-beb0-4079-b092-5625790c612f"
      },
      "outputs": [
        {
          "output_type": "stream",
          "name": "stderr",
          "text": [
            "<ipython-input-8-39e89db91123>:1: FutureWarning: A value is trying to be set on a copy of a DataFrame or Series through chained assignment using an inplace method.\n",
            "The behavior will change in pandas 3.0. This inplace method will never work because the intermediate object on which we are setting values always behaves as a copy.\n",
            "\n",
            "For example, when doing 'df[col].method(value, inplace=True)', try using 'df.method({col: value}, inplace=True)' or df[col] = df[col].method(value) instead, to perform the operation inplace on the original object.\n",
            "\n",
            "\n",
            "  dataframe.Magnitude.fillna(0,inplace=True)\n"
          ]
        }
      ],
      "source": [
        "dataframe.Magnitude.fillna(0,inplace=True)"
      ]
    },
    {
      "cell_type": "markdown",
      "metadata": {
        "id": "T-TOeB02UNjq"
      },
      "source": [
        "#**FEATURE** **ENGINEERING**\n"
      ]
    },
    {
      "cell_type": "code",
      "execution_count": null,
      "metadata": {
        "id": "1RQtG-Zn75-D"
      },
      "outputs": [],
      "source": [
        "# finding the month difference\n",
        "duration_month = dataframe['End Month']-dataframe['Start Month']\n",
        "# finding the null values and handling the negative values\n",
        "duration_month = duration_month.apply(lambda x: -(x)*30 if x < 0 else x*30)\n",
        "duration_month = duration_month.fillna(0)"
      ]
    },
    {
      "cell_type": "code",
      "execution_count": null,
      "metadata": {
        "id": "wvFBM3UW8NGT"
      },
      "outputs": [],
      "source": [
        "# finding the day difference\n",
        "duration_day = dataframe['End Day']-dataframe['Start Day']\n",
        "# finding the null values and handling the negative values\n",
        "duration_day = duration_month.apply(lambda x: -(x) if x < 0 else x)\n",
        "duration_day = duration_month.fillna(0)"
      ]
    },
    {
      "cell_type": "code",
      "execution_count": null,
      "metadata": {
        "id": "iW2ePTbN_AIU"
      },
      "outputs": [],
      "source": [
        "# calculating the number of days\n",
        "duration_disaster = duration_day+duration_month"
      ]
    },
    {
      "cell_type": "code",
      "execution_count": null,
      "metadata": {
        "id": "93pkBPEL_kK0"
      },
      "outputs": [],
      "source": [
        "dataframe['duration'] = duration_disaster"
      ]
    },
    {
      "cell_type": "code",
      "execution_count": null,
      "metadata": {
        "id": "FzvLYmHMAcck"
      },
      "outputs": [],
      "source": [
        "dataframe.drop([\"Start Year\",\"Start Month\",\"Start Day\",\"End Year\",\"End Month\",\"End Day\",\"No. Injured\",\"No. Affected\"],inplace = True,axis = 1)"
      ]
    },
    {
      "cell_type": "code",
      "execution_count": null,
      "metadata": {
        "id": "mMCzVZ3FAxnT"
      },
      "outputs": [],
      "source": [
        "dataframe['Total Deaths'] = dataframe['Total Deaths'].fillna(dataframe['duration']*1)"
      ]
    },
    {
      "cell_type": "code",
      "execution_count": null,
      "metadata": {
        "id": "hVNw_9CCBbkc"
      },
      "outputs": [],
      "source": [
        "dataframe['Total Affected'] = dataframe['Total Affected'].fillna(dataframe['Total Deaths']*10)"
      ]
    },
    {
      "cell_type": "code",
      "execution_count": null,
      "metadata": {
        "colab": {
          "base_uri": "https://localhost:8080/"
        },
        "id": "Hm-l-ygcL2mc",
        "outputId": "a0d778f3-210a-4aa8-89c1-b4e94d835778"
      },
      "outputs": [
        {
          "output_type": "execute_result",
          "data": {
            "text/plain": [
              "array(['Storm', 'Flood', 'Epidemic', 'Volcanic activity', 'Earthquake',\n",
              "       'Drought', 'Mass movement (dry)', 'Mass movement (wet)',\n",
              "       'Wildfire', 'Infestation', 'Extreme temperature', 'Fog', 'Impact',\n",
              "       'Animal incident', 'Glacial lake outburst flood'], dtype=object)"
            ]
          },
          "metadata": {},
          "execution_count": 16
        }
      ],
      "source": [
        "dataframe['Disaster Type'].unique()"
      ]
    },
    {
      "cell_type": "markdown",
      "metadata": {
        "id": "m5_x0Sb2QvPZ"
      },
      "source": [
        "*BINNING*"
      ]
    },
    {
      "cell_type": "code",
      "execution_count": null,
      "metadata": {
        "id": "T9qgi3KKOfUR"
      },
      "outputs": [],
      "source": [
        "dataframe['Disaster Type'] = dataframe['Disaster Type'].apply(lambda x: 0 if ((x == \"Flood\") | (x == \"Glacial lake outburst flood\")) else x)"
      ]
    },
    {
      "cell_type": "code",
      "execution_count": null,
      "metadata": {
        "id": "GtwRoB00PsDK"
      },
      "outputs": [],
      "source": [
        "dataframe['Disaster Type'] = dataframe['Disaster Type'].apply(lambda x: 0 if ((x == \"Flood\") | (x == \"Glacial lake outburst flood\")) else x)\n",
        "dataframe['Disaster Type'] = dataframe['Disaster Type'].apply(lambda x: 1 if x==\"Wildfire\" else x)\n",
        "dataframe['Disaster Type'] = dataframe['Disaster Type'].apply(lambda x: 2 if x==\"Earthquake\" else x)\n",
        "dataframe['Disaster Type'] = dataframe['Disaster Type'].apply(lambda x: 3 if x==\"Storm\" else x)\n",
        "dataframe['Disaster Type'] = dataframe['Disaster Type'].apply(lambda x: 4 if x == \"Drought\" else x)"
      ]
    },
    {
      "cell_type": "code",
      "execution_count": null,
      "metadata": {
        "id": "4Qm8KcoKP9JA"
      },
      "outputs": [],
      "source": [
        "dataframe['Disaster Type'] = dataframe['Disaster Type'].apply(lambda x: 2 if x==\"Earthquake\" else x)"
      ]
    },
    {
      "cell_type": "code",
      "execution_count": null,
      "metadata": {
        "id": "98UEAkerRDz9"
      },
      "outputs": [],
      "source": [
        "dataframe['Disaster Type'] = dataframe['Disaster Type'].apply(lambda x: 3 if x==\"Storm\" else x)"
      ]
    },
    {
      "cell_type": "code",
      "execution_count": null,
      "metadata": {
        "id": "0HRxdCrXEl56"
      },
      "outputs": [],
      "source": [
        "dataframe['Disaster Type'] = dataframe['Disaster Type'].apply(lambda x: 4 if x == \"Drought\" else x)"
      ]
    },
    {
      "cell_type": "code",
      "execution_count": null,
      "metadata": {
        "id": "hm32cMlIRolQ"
      },
      "outputs": [],
      "source": [
        "new_dataframe = dataframe[(dataframe['Disaster Type'] == 0) | (dataframe['Disaster Type'] == 1) | (dataframe['Disaster Type'] == 2) | (dataframe['Disaster Type'] == 3) | (dataframe['Disaster Type'] == 4)]"
      ]
    },
    {
      "cell_type": "code",
      "execution_count": null,
      "metadata": {
        "colab": {
          "base_uri": "https://localhost:8080/",
          "height": 493
        },
        "id": "j0FMsDfuKODZ",
        "outputId": "6981bde4-3872-4cd5-e764-6858fd2285b7"
      },
      "outputs": [
        {
          "output_type": "execute_result",
          "data": {
            "text/plain": [
              "      Disaster Type  ISO                                           Location  \\\n",
              "0                 3  USA                                  Galveston (Texas)   \n",
              "1                 0  JAM                                        Saint James   \n",
              "4                 2  TUR                       KARS,KARAKURT,KAGIZMAN,DIGOR   \n",
              "5                 4  IND                                             Bengal   \n",
              "6                 4  CPV                                        Countrywide   \n",
              "...             ...  ...                                                ...   \n",
              "17348             0  THA  Nakhon Sawan, Phichit, Phitsanulok, Phetchabun...   \n",
              "17349             0  DZA                        Djelfa + sevral other areas   \n",
              "17350             3  USA                       Kentucky, Missouri, Virginie   \n",
              "17351             4  SOM  Gedo, Hiran, Bay, Bakool, Mudug, Bari, Toghdhe...   \n",
              "17352             4  KEN  Wajir, Kilifi, Kwale, Garissa, Wajir, Mandera,...   \n",
              "\n",
              "       Magnitude  Latitude  Longitude  Total Deaths  Total Affected       CPI  \\\n",
              "0          220.0       NaN        NaN        6000.0         60000.0  2.652223   \n",
              "1            0.0       NaN        NaN         300.0          3000.0  2.652223   \n",
              "4            5.9      40.3       43.1         140.0          1400.0  2.652223   \n",
              "5            0.0       NaN        NaN     1250000.0      12500000.0  2.652223   \n",
              "6            0.0       NaN        NaN       11000.0        110000.0  2.652223   \n",
              "...          ...       ...        ...           ...             ...       ...   \n",
              "17348        0.0       NaN        NaN           1.0          1244.0       NaN   \n",
              "17349        0.0       NaN        NaN           6.0           100.0       NaN   \n",
              "17350        0.0       NaN        NaN          28.0         15108.0       NaN   \n",
              "17351        0.0       NaN        NaN           0.0       4400000.0       NaN   \n",
              "17352        0.0       NaN        NaN           0.0       2150000.0       NaN   \n",
              "\n",
              "       duration  \n",
              "0           0.0  \n",
              "1           0.0  \n",
              "4           0.0  \n",
              "5           0.0  \n",
              "6           0.0  \n",
              "...         ...  \n",
              "17348       0.0  \n",
              "17349       0.0  \n",
              "17350       0.0  \n",
              "17351       0.0  \n",
              "17352       0.0  \n",
              "\n",
              "[13866 rows x 10 columns]"
            ],
            "text/html": [
              "\n",
              "  <div id=\"df-6f9e29ef-9008-4413-8e64-c8540802f58b\" class=\"colab-df-container\">\n",
              "    <div>\n",
              "<style scoped>\n",
              "    .dataframe tbody tr th:only-of-type {\n",
              "        vertical-align: middle;\n",
              "    }\n",
              "\n",
              "    .dataframe tbody tr th {\n",
              "        vertical-align: top;\n",
              "    }\n",
              "\n",
              "    .dataframe thead th {\n",
              "        text-align: right;\n",
              "    }\n",
              "</style>\n",
              "<table border=\"1\" class=\"dataframe\">\n",
              "  <thead>\n",
              "    <tr style=\"text-align: right;\">\n",
              "      <th></th>\n",
              "      <th>Disaster Type</th>\n",
              "      <th>ISO</th>\n",
              "      <th>Location</th>\n",
              "      <th>Magnitude</th>\n",
              "      <th>Latitude</th>\n",
              "      <th>Longitude</th>\n",
              "      <th>Total Deaths</th>\n",
              "      <th>Total Affected</th>\n",
              "      <th>CPI</th>\n",
              "      <th>duration</th>\n",
              "    </tr>\n",
              "  </thead>\n",
              "  <tbody>\n",
              "    <tr>\n",
              "      <th>0</th>\n",
              "      <td>3</td>\n",
              "      <td>USA</td>\n",
              "      <td>Galveston (Texas)</td>\n",
              "      <td>220.0</td>\n",
              "      <td>NaN</td>\n",
              "      <td>NaN</td>\n",
              "      <td>6000.0</td>\n",
              "      <td>60000.0</td>\n",
              "      <td>2.652223</td>\n",
              "      <td>0.0</td>\n",
              "    </tr>\n",
              "    <tr>\n",
              "      <th>1</th>\n",
              "      <td>0</td>\n",
              "      <td>JAM</td>\n",
              "      <td>Saint James</td>\n",
              "      <td>0.0</td>\n",
              "      <td>NaN</td>\n",
              "      <td>NaN</td>\n",
              "      <td>300.0</td>\n",
              "      <td>3000.0</td>\n",
              "      <td>2.652223</td>\n",
              "      <td>0.0</td>\n",
              "    </tr>\n",
              "    <tr>\n",
              "      <th>4</th>\n",
              "      <td>2</td>\n",
              "      <td>TUR</td>\n",
              "      <td>KARS,KARAKURT,KAGIZMAN,DIGOR</td>\n",
              "      <td>5.9</td>\n",
              "      <td>40.3</td>\n",
              "      <td>43.1</td>\n",
              "      <td>140.0</td>\n",
              "      <td>1400.0</td>\n",
              "      <td>2.652223</td>\n",
              "      <td>0.0</td>\n",
              "    </tr>\n",
              "    <tr>\n",
              "      <th>5</th>\n",
              "      <td>4</td>\n",
              "      <td>IND</td>\n",
              "      <td>Bengal</td>\n",
              "      <td>0.0</td>\n",
              "      <td>NaN</td>\n",
              "      <td>NaN</td>\n",
              "      <td>1250000.0</td>\n",
              "      <td>12500000.0</td>\n",
              "      <td>2.652223</td>\n",
              "      <td>0.0</td>\n",
              "    </tr>\n",
              "    <tr>\n",
              "      <th>6</th>\n",
              "      <td>4</td>\n",
              "      <td>CPV</td>\n",
              "      <td>Countrywide</td>\n",
              "      <td>0.0</td>\n",
              "      <td>NaN</td>\n",
              "      <td>NaN</td>\n",
              "      <td>11000.0</td>\n",
              "      <td>110000.0</td>\n",
              "      <td>2.652223</td>\n",
              "      <td>0.0</td>\n",
              "    </tr>\n",
              "    <tr>\n",
              "      <th>...</th>\n",
              "      <td>...</td>\n",
              "      <td>...</td>\n",
              "      <td>...</td>\n",
              "      <td>...</td>\n",
              "      <td>...</td>\n",
              "      <td>...</td>\n",
              "      <td>...</td>\n",
              "      <td>...</td>\n",
              "      <td>...</td>\n",
              "      <td>...</td>\n",
              "    </tr>\n",
              "    <tr>\n",
              "      <th>17348</th>\n",
              "      <td>0</td>\n",
              "      <td>THA</td>\n",
              "      <td>Nakhon Sawan, Phichit, Phitsanulok, Phetchabun...</td>\n",
              "      <td>0.0</td>\n",
              "      <td>NaN</td>\n",
              "      <td>NaN</td>\n",
              "      <td>1.0</td>\n",
              "      <td>1244.0</td>\n",
              "      <td>NaN</td>\n",
              "      <td>0.0</td>\n",
              "    </tr>\n",
              "    <tr>\n",
              "      <th>17349</th>\n",
              "      <td>0</td>\n",
              "      <td>DZA</td>\n",
              "      <td>Djelfa + sevral other areas</td>\n",
              "      <td>0.0</td>\n",
              "      <td>NaN</td>\n",
              "      <td>NaN</td>\n",
              "      <td>6.0</td>\n",
              "      <td>100.0</td>\n",
              "      <td>NaN</td>\n",
              "      <td>0.0</td>\n",
              "    </tr>\n",
              "    <tr>\n",
              "      <th>17350</th>\n",
              "      <td>3</td>\n",
              "      <td>USA</td>\n",
              "      <td>Kentucky, Missouri, Virginie</td>\n",
              "      <td>0.0</td>\n",
              "      <td>NaN</td>\n",
              "      <td>NaN</td>\n",
              "      <td>28.0</td>\n",
              "      <td>15108.0</td>\n",
              "      <td>NaN</td>\n",
              "      <td>0.0</td>\n",
              "    </tr>\n",
              "    <tr>\n",
              "      <th>17351</th>\n",
              "      <td>4</td>\n",
              "      <td>SOM</td>\n",
              "      <td>Gedo, Hiran, Bay, Bakool, Mudug, Bari, Toghdhe...</td>\n",
              "      <td>0.0</td>\n",
              "      <td>NaN</td>\n",
              "      <td>NaN</td>\n",
              "      <td>0.0</td>\n",
              "      <td>4400000.0</td>\n",
              "      <td>NaN</td>\n",
              "      <td>0.0</td>\n",
              "    </tr>\n",
              "    <tr>\n",
              "      <th>17352</th>\n",
              "      <td>4</td>\n",
              "      <td>KEN</td>\n",
              "      <td>Wajir, Kilifi, Kwale, Garissa, Wajir, Mandera,...</td>\n",
              "      <td>0.0</td>\n",
              "      <td>NaN</td>\n",
              "      <td>NaN</td>\n",
              "      <td>0.0</td>\n",
              "      <td>2150000.0</td>\n",
              "      <td>NaN</td>\n",
              "      <td>0.0</td>\n",
              "    </tr>\n",
              "  </tbody>\n",
              "</table>\n",
              "<p>13866 rows × 10 columns</p>\n",
              "</div>\n",
              "    <div class=\"colab-df-buttons\">\n",
              "\n",
              "  <div class=\"colab-df-container\">\n",
              "    <button class=\"colab-df-convert\" onclick=\"convertToInteractive('df-6f9e29ef-9008-4413-8e64-c8540802f58b')\"\n",
              "            title=\"Convert this dataframe to an interactive table.\"\n",
              "            style=\"display:none;\">\n",
              "\n",
              "  <svg xmlns=\"http://www.w3.org/2000/svg\" height=\"24px\" viewBox=\"0 -960 960 960\">\n",
              "    <path d=\"M120-120v-720h720v720H120Zm60-500h600v-160H180v160Zm220 220h160v-160H400v160Zm0 220h160v-160H400v160ZM180-400h160v-160H180v160Zm440 0h160v-160H620v160ZM180-180h160v-160H180v160Zm440 0h160v-160H620v160Z\"/>\n",
              "  </svg>\n",
              "    </button>\n",
              "\n",
              "  <style>\n",
              "    .colab-df-container {\n",
              "      display:flex;\n",
              "      gap: 12px;\n",
              "    }\n",
              "\n",
              "    .colab-df-convert {\n",
              "      background-color: #E8F0FE;\n",
              "      border: none;\n",
              "      border-radius: 50%;\n",
              "      cursor: pointer;\n",
              "      display: none;\n",
              "      fill: #1967D2;\n",
              "      height: 32px;\n",
              "      padding: 0 0 0 0;\n",
              "      width: 32px;\n",
              "    }\n",
              "\n",
              "    .colab-df-convert:hover {\n",
              "      background-color: #E2EBFA;\n",
              "      box-shadow: 0px 1px 2px rgba(60, 64, 67, 0.3), 0px 1px 3px 1px rgba(60, 64, 67, 0.15);\n",
              "      fill: #174EA6;\n",
              "    }\n",
              "\n",
              "    .colab-df-buttons div {\n",
              "      margin-bottom: 4px;\n",
              "    }\n",
              "\n",
              "    [theme=dark] .colab-df-convert {\n",
              "      background-color: #3B4455;\n",
              "      fill: #D2E3FC;\n",
              "    }\n",
              "\n",
              "    [theme=dark] .colab-df-convert:hover {\n",
              "      background-color: #434B5C;\n",
              "      box-shadow: 0px 1px 3px 1px rgba(0, 0, 0, 0.15);\n",
              "      filter: drop-shadow(0px 1px 2px rgba(0, 0, 0, 0.3));\n",
              "      fill: #FFFFFF;\n",
              "    }\n",
              "  </style>\n",
              "\n",
              "    <script>\n",
              "      const buttonEl =\n",
              "        document.querySelector('#df-6f9e29ef-9008-4413-8e64-c8540802f58b button.colab-df-convert');\n",
              "      buttonEl.style.display =\n",
              "        google.colab.kernel.accessAllowed ? 'block' : 'none';\n",
              "\n",
              "      async function convertToInteractive(key) {\n",
              "        const element = document.querySelector('#df-6f9e29ef-9008-4413-8e64-c8540802f58b');\n",
              "        const dataTable =\n",
              "          await google.colab.kernel.invokeFunction('convertToInteractive',\n",
              "                                                    [key], {});\n",
              "        if (!dataTable) return;\n",
              "\n",
              "        const docLinkHtml = 'Like what you see? Visit the ' +\n",
              "          '<a target=\"_blank\" href=https://colab.research.google.com/notebooks/data_table.ipynb>data table notebook</a>'\n",
              "          + ' to learn more about interactive tables.';\n",
              "        element.innerHTML = '';\n",
              "        dataTable['output_type'] = 'display_data';\n",
              "        await google.colab.output.renderOutput(dataTable, element);\n",
              "        const docLink = document.createElement('div');\n",
              "        docLink.innerHTML = docLinkHtml;\n",
              "        element.appendChild(docLink);\n",
              "      }\n",
              "    </script>\n",
              "  </div>\n",
              "\n",
              "\n",
              "    <div id=\"df-37cbfd24-9517-4dfb-a7ba-f89006b481fa\">\n",
              "      <button class=\"colab-df-quickchart\" onclick=\"quickchart('df-37cbfd24-9517-4dfb-a7ba-f89006b481fa')\"\n",
              "                title=\"Suggest charts\"\n",
              "                style=\"display:none;\">\n",
              "\n",
              "<svg xmlns=\"http://www.w3.org/2000/svg\" height=\"24px\"viewBox=\"0 0 24 24\"\n",
              "     width=\"24px\">\n",
              "    <g>\n",
              "        <path d=\"M19 3H5c-1.1 0-2 .9-2 2v14c0 1.1.9 2 2 2h14c1.1 0 2-.9 2-2V5c0-1.1-.9-2-2-2zM9 17H7v-7h2v7zm4 0h-2V7h2v10zm4 0h-2v-4h2v4z\"/>\n",
              "    </g>\n",
              "</svg>\n",
              "      </button>\n",
              "\n",
              "<style>\n",
              "  .colab-df-quickchart {\n",
              "      --bg-color: #E8F0FE;\n",
              "      --fill-color: #1967D2;\n",
              "      --hover-bg-color: #E2EBFA;\n",
              "      --hover-fill-color: #174EA6;\n",
              "      --disabled-fill-color: #AAA;\n",
              "      --disabled-bg-color: #DDD;\n",
              "  }\n",
              "\n",
              "  [theme=dark] .colab-df-quickchart {\n",
              "      --bg-color: #3B4455;\n",
              "      --fill-color: #D2E3FC;\n",
              "      --hover-bg-color: #434B5C;\n",
              "      --hover-fill-color: #FFFFFF;\n",
              "      --disabled-bg-color: #3B4455;\n",
              "      --disabled-fill-color: #666;\n",
              "  }\n",
              "\n",
              "  .colab-df-quickchart {\n",
              "    background-color: var(--bg-color);\n",
              "    border: none;\n",
              "    border-radius: 50%;\n",
              "    cursor: pointer;\n",
              "    display: none;\n",
              "    fill: var(--fill-color);\n",
              "    height: 32px;\n",
              "    padding: 0;\n",
              "    width: 32px;\n",
              "  }\n",
              "\n",
              "  .colab-df-quickchart:hover {\n",
              "    background-color: var(--hover-bg-color);\n",
              "    box-shadow: 0 1px 2px rgba(60, 64, 67, 0.3), 0 1px 3px 1px rgba(60, 64, 67, 0.15);\n",
              "    fill: var(--button-hover-fill-color);\n",
              "  }\n",
              "\n",
              "  .colab-df-quickchart-complete:disabled,\n",
              "  .colab-df-quickchart-complete:disabled:hover {\n",
              "    background-color: var(--disabled-bg-color);\n",
              "    fill: var(--disabled-fill-color);\n",
              "    box-shadow: none;\n",
              "  }\n",
              "\n",
              "  .colab-df-spinner {\n",
              "    border: 2px solid var(--fill-color);\n",
              "    border-color: transparent;\n",
              "    border-bottom-color: var(--fill-color);\n",
              "    animation:\n",
              "      spin 1s steps(1) infinite;\n",
              "  }\n",
              "\n",
              "  @keyframes spin {\n",
              "    0% {\n",
              "      border-color: transparent;\n",
              "      border-bottom-color: var(--fill-color);\n",
              "      border-left-color: var(--fill-color);\n",
              "    }\n",
              "    20% {\n",
              "      border-color: transparent;\n",
              "      border-left-color: var(--fill-color);\n",
              "      border-top-color: var(--fill-color);\n",
              "    }\n",
              "    30% {\n",
              "      border-color: transparent;\n",
              "      border-left-color: var(--fill-color);\n",
              "      border-top-color: var(--fill-color);\n",
              "      border-right-color: var(--fill-color);\n",
              "    }\n",
              "    40% {\n",
              "      border-color: transparent;\n",
              "      border-right-color: var(--fill-color);\n",
              "      border-top-color: var(--fill-color);\n",
              "    }\n",
              "    60% {\n",
              "      border-color: transparent;\n",
              "      border-right-color: var(--fill-color);\n",
              "    }\n",
              "    80% {\n",
              "      border-color: transparent;\n",
              "      border-right-color: var(--fill-color);\n",
              "      border-bottom-color: var(--fill-color);\n",
              "    }\n",
              "    90% {\n",
              "      border-color: transparent;\n",
              "      border-bottom-color: var(--fill-color);\n",
              "    }\n",
              "  }\n",
              "</style>\n",
              "\n",
              "      <script>\n",
              "        async function quickchart(key) {\n",
              "          const quickchartButtonEl =\n",
              "            document.querySelector('#' + key + ' button');\n",
              "          quickchartButtonEl.disabled = true;  // To prevent multiple clicks.\n",
              "          quickchartButtonEl.classList.add('colab-df-spinner');\n",
              "          try {\n",
              "            const charts = await google.colab.kernel.invokeFunction(\n",
              "                'suggestCharts', [key], {});\n",
              "          } catch (error) {\n",
              "            console.error('Error during call to suggestCharts:', error);\n",
              "          }\n",
              "          quickchartButtonEl.classList.remove('colab-df-spinner');\n",
              "          quickchartButtonEl.classList.add('colab-df-quickchart-complete');\n",
              "        }\n",
              "        (() => {\n",
              "          let quickchartButtonEl =\n",
              "            document.querySelector('#df-37cbfd24-9517-4dfb-a7ba-f89006b481fa button');\n",
              "          quickchartButtonEl.style.display =\n",
              "            google.colab.kernel.accessAllowed ? 'block' : 'none';\n",
              "        })();\n",
              "      </script>\n",
              "    </div>\n",
              "\n",
              "  <div id=\"id_1d9e5050-44fe-47ff-b8ff-a97c90f5009b\">\n",
              "    <style>\n",
              "      .colab-df-generate {\n",
              "        background-color: #E8F0FE;\n",
              "        border: none;\n",
              "        border-radius: 50%;\n",
              "        cursor: pointer;\n",
              "        display: none;\n",
              "        fill: #1967D2;\n",
              "        height: 32px;\n",
              "        padding: 0 0 0 0;\n",
              "        width: 32px;\n",
              "      }\n",
              "\n",
              "      .colab-df-generate:hover {\n",
              "        background-color: #E2EBFA;\n",
              "        box-shadow: 0px 1px 2px rgba(60, 64, 67, 0.3), 0px 1px 3px 1px rgba(60, 64, 67, 0.15);\n",
              "        fill: #174EA6;\n",
              "      }\n",
              "\n",
              "      [theme=dark] .colab-df-generate {\n",
              "        background-color: #3B4455;\n",
              "        fill: #D2E3FC;\n",
              "      }\n",
              "\n",
              "      [theme=dark] .colab-df-generate:hover {\n",
              "        background-color: #434B5C;\n",
              "        box-shadow: 0px 1px 3px 1px rgba(0, 0, 0, 0.15);\n",
              "        filter: drop-shadow(0px 1px 2px rgba(0, 0, 0, 0.3));\n",
              "        fill: #FFFFFF;\n",
              "      }\n",
              "    </style>\n",
              "    <button class=\"colab-df-generate\" onclick=\"generateWithVariable('new_dataframe')\"\n",
              "            title=\"Generate code using this dataframe.\"\n",
              "            style=\"display:none;\">\n",
              "\n",
              "  <svg xmlns=\"http://www.w3.org/2000/svg\" height=\"24px\"viewBox=\"0 0 24 24\"\n",
              "       width=\"24px\">\n",
              "    <path d=\"M7,19H8.4L18.45,9,17,7.55,7,17.6ZM5,21V16.75L18.45,3.32a2,2,0,0,1,2.83,0l1.4,1.43a1.91,1.91,0,0,1,.58,1.4,1.91,1.91,0,0,1-.58,1.4L9.25,21ZM18.45,9,17,7.55Zm-12,3A5.31,5.31,0,0,0,4.9,8.1,5.31,5.31,0,0,0,1,6.5,5.31,5.31,0,0,0,4.9,4.9,5.31,5.31,0,0,0,6.5,1,5.31,5.31,0,0,0,8.1,4.9,5.31,5.31,0,0,0,12,6.5,5.46,5.46,0,0,0,6.5,12Z\"/>\n",
              "  </svg>\n",
              "    </button>\n",
              "    <script>\n",
              "      (() => {\n",
              "      const buttonEl =\n",
              "        document.querySelector('#id_1d9e5050-44fe-47ff-b8ff-a97c90f5009b button.colab-df-generate');\n",
              "      buttonEl.style.display =\n",
              "        google.colab.kernel.accessAllowed ? 'block' : 'none';\n",
              "\n",
              "      buttonEl.onclick = () => {\n",
              "        google.colab.notebook.generateWithVariable('new_dataframe');\n",
              "      }\n",
              "      })();\n",
              "    </script>\n",
              "  </div>\n",
              "\n",
              "    </div>\n",
              "  </div>\n"
            ],
            "application/vnd.google.colaboratory.intrinsic+json": {
              "type": "dataframe",
              "variable_name": "new_dataframe",
              "summary": "{\n  \"name\": \"new_dataframe\",\n  \"rows\": 13866,\n  \"fields\": [\n    {\n      \"column\": \"Disaster Type\",\n      \"properties\": {\n        \"dtype\": \"date\",\n        \"min\": 0,\n        \"max\": 4,\n        \"num_unique_values\": 5,\n        \"samples\": [\n          0,\n          1,\n          2\n        ],\n        \"semantic_type\": \"\",\n        \"description\": \"\"\n      }\n    },\n    {\n      \"column\": \"ISO\",\n      \"properties\": {\n        \"dtype\": \"category\",\n        \"num_unique_values\": 225,\n        \"samples\": [\n          \"CHN\",\n          \"SCG\",\n          \"WSM\"\n        ],\n        \"semantic_type\": \"\",\n        \"description\": \"\"\n      }\n    },\n    {\n      \"column\": \"Location\",\n      \"properties\": {\n        \"dtype\": \"string\",\n        \"num_unique_values\": 11401,\n        \"samples\": [\n          \"Kanem, Lac Barl el Gazal, Batha Est, Batha Ouest, Hadjer Lamis, Ouaddai, Salamat provinces\",\n          \"Lebowa, Venda (Eastern Transvaal)\",\n          \"Uttar Pradesh, Bihar, West Bengal, Madhya Prasdeh, Delhi\"\n        ],\n        \"semantic_type\": \"\",\n        \"description\": \"\"\n      }\n    },\n    {\n      \"column\": \"Magnitude\",\n      \"properties\": {\n        \"dtype\": \"number\",\n        \"std\": 81496.49839265729,\n        \"min\": 0.0,\n        \"max\": 2857000.0,\n        \"num_unique_values\": 1817,\n        \"samples\": [\n          7171.0,\n          156100.0,\n          24680.0\n        ],\n        \"semantic_type\": \"\",\n        \"description\": \"\"\n      }\n    },\n    {\n      \"column\": \"Latitude\",\n      \"properties\": {\n        \"dtype\": \"number\",\n        \"std\": 21.474730275208966,\n        \"min\": -72.64,\n        \"max\": 67.93,\n        \"num_unique_values\": 2325,\n        \"samples\": [\n          40.301,\n          15.658,\n          28.524\n        ],\n        \"semantic_type\": \"\",\n        \"description\": \"\"\n      }\n    },\n    {\n      \"column\": \"Longitude\",\n      \"properties\": {\n        \"dtype\": \"number\",\n        \"std\": 76.2449722910623,\n        \"min\": -178.252,\n        \"max\": 179.65,\n        \"num_unique_values\": 2398,\n        \"samples\": [\n          19.209,\n          63.601,\n          18.18\n        ],\n        \"semantic_type\": \"\",\n        \"description\": \"\"\n      }\n    },\n    {\n      \"column\": \"Total Deaths\",\n      \"properties\": {\n        \"dtype\": \"number\",\n        \"std\": 52931.25501549502,\n        \"min\": 0.0,\n        \"max\": 3700000.0,\n        \"num_unique_values\": 707,\n        \"samples\": [\n          577.0,\n          1800.0,\n          1.0\n        ],\n        \"semantic_type\": \"\",\n        \"description\": \"\"\n      }\n    },\n    {\n      \"column\": \"Total Affected\",\n      \"properties\": {\n        \"dtype\": \"number\",\n        \"std\": 7078378.258452538,\n        \"min\": 0.0,\n        \"max\": 330000000.0,\n        \"num_unique_values\": 4940,\n        \"samples\": [\n          12100.0,\n          8301.0,\n          3075.0\n        ],\n        \"semantic_type\": \"\",\n        \"description\": \"\"\n      }\n    },\n    {\n      \"column\": \"CPI\",\n      \"properties\": {\n        \"dtype\": \"number\",\n        \"std\": 25.08045157618248,\n        \"min\": 2.652223315659541,\n        \"max\": 100.0,\n        \"num_unique_values\": 113,\n        \"samples\": [\n          43.41615746886822,\n          3.0765790461650675,\n          8.478430323039372\n        ],\n        \"semantic_type\": \"\",\n        \"description\": \"\"\n      }\n    },\n    {\n      \"column\": \"duration\",\n      \"properties\": {\n        \"dtype\": \"number\",\n        \"std\": 75.15940973967135,\n        \"min\": 0.0,\n        \"max\": 660.0,\n        \"num_unique_values\": 12,\n        \"samples\": [\n          600.0,\n          300.0,\n          0.0\n        ],\n        \"semantic_type\": \"\",\n        \"description\": \"\"\n      }\n    }\n  ]\n}"
            }
          },
          "metadata": {},
          "execution_count": 23
        }
      ],
      "source": [
        "new_dataframe"
      ]
    },
    {
      "cell_type": "markdown",
      "metadata": {
        "id": "wwi5PAINxdpV"
      },
      "source": [
        "USING API TO REPLACE THE LOCATION VALUES BASED ON THE COUNTRIES ISO"
      ]
    },
    {
      "cell_type": "code",
      "execution_count": null,
      "metadata": {
        "id": "sw9__W4VcAL_"
      },
      "outputs": [],
      "source": [
        "lists = []\n",
        "def city_finder(country):\n",
        "    time.sleep(2)\n",
        "    url = f\"https://wft-geo-db.p.rapidapi.com/v1/geo/countries/{country}\"\n",
        "    headers = {\n",
        "        \"x-rapidapi-key\": \"\",\n",
        "        \"x-rapidapi-host\": \"\"\n",
        "    }\n",
        "    try:\n",
        "        response = requests.get(url, headers=headers)\n",
        "        response.raise_for_status()\n",
        "        return(response.json()[\"data\"][\"capital\"])\n",
        "    except requests.exceptions.RequestException:\n",
        "        print(country,response.text)\n",
        "    except KeyError:\n",
        "        print(response.text)\n",
        "for country in new_dataframe[new_dataframe['Location'].isna()]['ISO'].unique():\n",
        "    city = city_finder(coco.convert(names=country,to=\"ISO2\"))\n",
        "    if city is not None:\n",
        "        df = (new_dataframe['Location'].isna()) & (new_dataframe['ISO'] == country)\n",
        "        new_dataframe.loc[df,\"Location\"] = city"
      ]
    },
    {
      "cell_type": "code",
      "source": [
        "# loading the csv\n",
        "stage1_dataset = pd.read_csv(\"stage1_dataset.csv\")\n",
        "new_dataframe = pd.DataFrame(stage1_dataset)"
      ],
      "metadata": {
        "id": "ENFoiIddEZ48"
      },
      "execution_count": null,
      "outputs": []
    },
    {
      "cell_type": "code",
      "execution_count": null,
      "metadata": {
        "id": "SzVwAUWUlYFG"
      },
      "outputs": [],
      "source": [
        "# Cleaning the location feature\n",
        "import re\n",
        "import pandas as pd\n",
        "\n",
        "def location_cleaner(location_string):\n",
        "    # 1. Handle non-string types (e.g., NaN, None, numbers) or empty strings\n",
        "    if not isinstance(location_string, str) or not location_string.strip():\n",
        "        return location_string\n",
        "\n",
        "    # Remove leading/trailing whitespace\n",
        "    processed_string = location_string.strip()\n",
        "\n",
        "    # Try to extract content from inside parentheses first (e.g., \"City (State)\")\n",
        "    # This regex captures whatever is before the first opening parenthesis\n",
        "    match_paren = re.match(r'^(.*?)\\s*\\(.*?\\)$', processed_string)\n",
        "    if match_paren:\n",
        "        # If a match is found, take the group before the parenthesis\n",
        "        # Recursively call location_cleaner on the extracted part to handle\n",
        "        # cases like \"CityA and CityB (Country)\" -> \"CityA and CityB\" -> \"CityA\"\n",
        "        return location_cleaner(match_paren.group(1))\n",
        "\n",
        "    # Normalize separators: convert \" and \", \" & \", and potentially \" , \" to a single comma\n",
        "    # Using re.sub for more robust replacement of multiple spaces around 'and'/'&'\n",
        "    processed_string = re.sub(r'\\s*and\\s*|\\s*&\\s*|\\s*,\\s*', ',', processed_string, flags=re.IGNORECASE)\n",
        "\n",
        "    # Split by comma and take the first part\n",
        "    if ',' in processed_string:\n",
        "        city = processed_string.split(',')[0].strip()\n",
        "    else:\n",
        "        # If no comma, 'and', or '&' was found, the whole string is the potential city\n",
        "        city = processed_string.strip()\n",
        "\n",
        "    # Capitalize the first letter of the city name\n",
        "    if city: # Ensure city is not empty before capitalizing\n",
        "        return city.capitalize()\n",
        "\n",
        "    return None\n",
        "\n",
        "new_dataframe['Location'] = new_dataframe['Location'].apply(lambda x: location_cleaner(x))"
      ]
    },
    {
      "cell_type": "code",
      "source": [
        "new_dataframe['Location']"
      ],
      "metadata": {
        "id": "EMjjaYrO4nwW"
      },
      "execution_count": null,
      "outputs": []
    },
    {
      "cell_type": "code",
      "execution_count": null,
      "metadata": {
        "id": "-kuSiFt9FbJO"
      },
      "outputs": [],
      "source": [
        "df = new_dataframe.loc[new_dataframe[\"Location\"].isna()]\n",
        "df['ISO'].unique()"
      ]
    },
    {
      "cell_type": "code",
      "execution_count": null,
      "metadata": {
        "id": "PsFqtlbc9V6j"
      },
      "outputs": [],
      "source": [
        "for location in new_dataframe['Location']:\n",
        "    if not isinstance(location,str):\n",
        "        continue\n",
        "    # time.sleep(3)\n",
        "    header = {\n",
        "        \"X-Api-Key\":\"\",\n",
        "    }\n",
        "    parameters = {\n",
        "\n",
        "        \"name\":location,\n",
        "    }\n",
        "    response = requests.get(url=\"https://api.api-ninjas.com/v1/city\",headers=header,params=parameters)\n",
        "    response_json = response.json()\n",
        "    print(response.json(),location)\n",
        "    if len(response_json) != 0:\n",
        "        lattitude = response_json[0]['latitude']\n",
        "        longitude = response_json[0]['longitude']\n",
        "        city = response_json[0]['name']\n",
        "        # mask = (new_dataframe['ISO'] == country_codes) & (new_dataframe['Location'].isna())\n",
        "        new_dataframe.loc[new_dataframe['Location']==location,[\"Latitude\",\"Longitude\"]] = [lattitude,longitude]"
      ]
    },
    {
      "cell_type": "code",
      "execution_count": null,
      "metadata": {
        "id": "DQFBh_D0_4SL"
      },
      "outputs": [],
      "source": [
        "# saving the dataset\n",
        "new_dataframe.to_csv(\"stage2_dataset.csv\",index=False)"
      ]
    },
    {
      "cell_type": "code",
      "execution_count": null,
      "metadata": {
        "id": "6aKn_eQqHXWH"
      },
      "outputs": [],
      "source": [
        "# loading the dataset\n",
        "stage2_dataset = pd.read_csv(\"stage2_dataset.csv\")\n",
        "new_dataframe = pd.DataFrame(stage2_dataset)"
      ]
    },
    {
      "cell_type": "code",
      "execution_count": null,
      "metadata": {
        "id": "Kdn8_E-BTMtN"
      },
      "outputs": [],
      "source": [
        "# choosing the lattitude and longitude that are not filled and calling api using another account\n",
        "for location in new_dataframe[new_dataframe['Latitude'].isna()]['Location']:\n",
        "    if not isinstance(location,str):\n",
        "        continue\n",
        "    # time.sleep(3)\n",
        "    header = {\n",
        "        \"X-Api-Key\":\"\",\n",
        "    }\n",
        "    parameters = {\n",
        "\n",
        "        \"name\":location,\n",
        "    }\n",
        "    response = requests.get(url=\"https://api.api-ninjas.com/v1/city\",headers=header,params=parameters)\n",
        "    response_json = response.json()\n",
        "    print(response.json(),location)\n",
        "    if len(response_json) != 0:\n",
        "        lattitude = response_json[0]['latitude']\n",
        "        longitude = response_json[0]['longitude']\n",
        "        city = response_json[0]['name']\n",
        "        # mask = new_dataframe['Latitude'].isna() & new_dataframe['Location'] == location\n",
        "        new_dataframe.loc[new_dataframe['Location']==location,[\"Latitude\",\"Longitude\"]] = [lattitude,longitude]"
      ]
    },
    {
      "cell_type": "code",
      "source": [
        "# saving the dataset\n",
        "new_dataframe.to_csv(\"stage3_dataset.csv\")"
      ],
      "metadata": {
        "id": "8iR_tuzhTzBV"
      },
      "execution_count": null,
      "outputs": []
    },
    {
      "cell_type": "code",
      "source": [
        "#loading the dataset\n",
        "stage3_dataset = pd.read_csv(\"stage3_dataset.csv\")\n",
        "new_dataframe = pd.DataFrame(stage3_dataset)"
      ],
      "metadata": {
        "id": "IUQ2kpZKbcG1"
      },
      "execution_count": null,
      "outputs": []
    },
    {
      "cell_type": "code",
      "execution_count": null,
      "metadata": {
        "id": "q2BFSTdhX8uG"
      },
      "outputs": [],
      "source": [
        "geo_code_cache = {}\n",
        "\n",
        "for location in new_dataframe.loc[new_dataframe['Latitude'].isna()]['Location']:\n",
        "    if not isinstance(location,str):\n",
        "        continue\n",
        "\n",
        "    url = \"https://us1.locationiq.com/v1/search\"\n",
        "    headers = {\n",
        "    \"accept\": \"application/json\"}\n",
        "\n",
        "    parameters = {\n",
        "     \"key\":\"\",\n",
        "    \"q\":location,\n",
        "    \"format\":\"json\",\n",
        "     \"limit\":1,\n",
        "    }\n",
        "    if location in geo_code_cache:\n",
        "        lat,lon = geo_code_cache[location]\n",
        "        new_dataframe.loc[new_dataframe['Location']==location,[\"Latitude\",\"Longitude\"]] = [lat,lon]\n",
        "    else:\n",
        "        try:\n",
        "            time.sleep(2)\n",
        "            response = requests.get(url=url,headers=headers,params=parameters)\n",
        "            print(response.json())\n",
        "            if len(response.json()) != 0:\n",
        "                lat = response.json()[0][\"lat\"]\n",
        "                lon = response.json()[0][\"lon\"]\n",
        "                geo_code_cache[location] = (float(lat), float(lon))\n",
        "                # mask = (new_dataframe['Location'] == location) & (new_dataframe['Latitude'].isna())\n",
        "                new_dataframe.loc[new_dataframe['Location']==location,[\"Latitude\",\"Longitude\"]] = [lat,lon]\n",
        "        except:\n",
        "            pass"
      ]
    },
    {
      "cell_type": "code",
      "source": [
        "# saving the dataset\n",
        "new_dataframe.to_csv(\"stage4_dataset.csv\")"
      ],
      "metadata": {
        "id": "AAbW1UmIW7Sa"
      },
      "execution_count": null,
      "outputs": []
    },
    {
      "cell_type": "code",
      "source": [
        "# loading the dataset\n",
        "stage4_dataset =pd.read_csv(\"stage4_dataset.csv\")\n",
        "new_dataframe_4 = pd.DataFrame(stage4_dataset[]"
      ],
      "metadata": {
        "id": "WhPVU99eb8ro"
      },
      "execution_count": null,
      "outputs": []
    },
    {
      "cell_type": "code",
      "source": [
        "new_dataframe_4.drop([\"Unnamed: 0.1\",\"Unnamed: 0\"],inplace=True,axis=1)"
      ],
      "metadata": {
        "id": "jIW_bRBz4Udp"
      },
      "execution_count": null,
      "outputs": []
    },
    {
      "cell_type": "code",
      "source": [
        "new_dataframe_4.dropna(subset=[\"Latitude\",\"Location\"],inplace=True)"
      ],
      "metadata": {
        "id": "m2HCTy__45l1"
      },
      "execution_count": null,
      "outputs": []
    },
    {
      "cell_type": "code",
      "source": [
        "new_dataframe_4.drop(\"Total Affected\",inplace=True,axis=1)"
      ],
      "metadata": {
        "id": "Q2XYAjt7Aaqx"
      },
      "execution_count": null,
      "outputs": []
    },
    {
      "cell_type": "code",
      "source": [
        "new_dataframe_4['Disaster Type'].value_counts()"
      ],
      "metadata": {
        "colab": {
          "base_uri": "https://localhost:8080/",
          "height": 272
        },
        "id": "wIvNOcjZAkKx",
        "outputId": "ee397766-5373-4d33-b507-a1d516bfe3d2"
      },
      "execution_count": null,
      "outputs": [
        {
          "output_type": "execute_result",
          "data": {
            "text/plain": [
              "Disaster Type\n",
              "0    5759\n",
              "3    4536\n",
              "2    1621\n",
              "4     745\n",
              "1     450\n",
              "Name: count, dtype: int64"
            ],
            "text/html": [
              "<div>\n",
              "<style scoped>\n",
              "    .dataframe tbody tr th:only-of-type {\n",
              "        vertical-align: middle;\n",
              "    }\n",
              "\n",
              "    .dataframe tbody tr th {\n",
              "        vertical-align: top;\n",
              "    }\n",
              "\n",
              "    .dataframe thead th {\n",
              "        text-align: right;\n",
              "    }\n",
              "</style>\n",
              "<table border=\"1\" class=\"dataframe\">\n",
              "  <thead>\n",
              "    <tr style=\"text-align: right;\">\n",
              "      <th></th>\n",
              "      <th>count</th>\n",
              "    </tr>\n",
              "    <tr>\n",
              "      <th>Disaster Type</th>\n",
              "      <th></th>\n",
              "    </tr>\n",
              "  </thead>\n",
              "  <tbody>\n",
              "    <tr>\n",
              "      <th>0</th>\n",
              "      <td>5759</td>\n",
              "    </tr>\n",
              "    <tr>\n",
              "      <th>3</th>\n",
              "      <td>4536</td>\n",
              "    </tr>\n",
              "    <tr>\n",
              "      <th>2</th>\n",
              "      <td>1621</td>\n",
              "    </tr>\n",
              "    <tr>\n",
              "      <th>4</th>\n",
              "      <td>745</td>\n",
              "    </tr>\n",
              "    <tr>\n",
              "      <th>1</th>\n",
              "      <td>450</td>\n",
              "    </tr>\n",
              "  </tbody>\n",
              "</table>\n",
              "</div><br><label><b>dtype:</b> int64</label>"
            ]
          },
          "metadata": {},
          "execution_count": 80
        }
      ]
    },
    {
      "cell_type": "code",
      "source": [
        "new_dataframe_4.to_csv(\"stage5_dataset.csv\")"
      ],
      "metadata": {
        "id": "GQi8AuFcBFZ-"
      },
      "execution_count": null,
      "outputs": []
    },
    {
      "cell_type": "code",
      "source": [
        "# adding a new_feature date\n",
        "# Cleaning the location feature\n",
        "import re\n",
        "import pandas as pd\n",
        "\n",
        "def location_cleaner(location_string):\n",
        "    # 1. Handle non-string types (e.g., NaN, None, numbers) or empty strings\n",
        "    if not isinstance(location_string, str) or not location_string.strip():\n",
        "        return location_string\n",
        "\n",
        "    # Remove leading/trailing whitespace\n",
        "    processed_string = location_string.strip()\n",
        "\n",
        "    # Try to extract content from inside parentheses first (e.g., \"City (State)\")\n",
        "    # This regex captures whatever is before the first opening parenthesis\n",
        "    match_paren = re.match(r'^(.*?)\\s*\\(.*?\\)$', processed_string)\n",
        "    if match_paren:\n",
        "        # If a match is found, take the group before the parenthesis\n",
        "        # Recursively call location_cleaner on the extracted part to handle\n",
        "        # cases like \"CityA and CityB (Country)\" -> \"CityA and CityB\" -> \"CityA\"\n",
        "        return location_cleaner(match_paren.group(1))\n",
        "\n",
        "    # Normalize separators: convert \" and \", \" & \", and potentially \" , \" to a single comma\n",
        "    # Using re.sub for more robust replacement of multiple spaces around 'and'/'&'\n",
        "    processed_string = re.sub(r'\\s*and\\s*|\\s*&\\s*|\\s*,\\s*', ',', processed_string, flags=re.IGNORECASE)\n",
        "\n",
        "    # Split by comma and take the first part\n",
        "    if ',' in processed_string:\n",
        "        city = processed_string.split(',')[0].strip()\n",
        "    else:\n",
        "        # If no comma, 'and', or '&' was found, the whole string is the potential city\n",
        "        city = processed_string.strip()\n",
        "\n",
        "    # Capitalize the first letter of the city name\n",
        "    if city: # Ensure city is not empty before capitalizing\n",
        "        return city.capitalize()\n",
        "\n",
        "    return None\n",
        "\n",
        "dataframe['Location'] = dataframe['Location'].apply(lambda x: location_cleaner(x))"
      ],
      "metadata": {
        "id": "jAN2-CuJB8wy"
      },
      "execution_count": null,
      "outputs": []
    },
    {
      "cell_type": "code",
      "source": [
        "new_dataframe_4['time'] = dataframe.loc[dataframe['Location'].isin(new_dataframe_4['Location'])]['DisNo.'].apply(lambda x: x)"
      ],
      "metadata": {
        "id": "bNMpJ_ZaGngN"
      },
      "execution_count": null,
      "outputs": []
    },
    {
      "cell_type": "code",
      "source": [
        "new_dataframe_4.dropna(subset=[\"time\"],inplace=True)"
      ],
      "metadata": {
        "id": "SCS8KSWCI7CF"
      },
      "execution_count": null,
      "outputs": []
    },
    {
      "cell_type": "code",
      "source": [
        "new_dataframe_4['time'] = new_dataframe_4['time'].apply(lambda x: x.split(\"-\")[0])"
      ],
      "metadata": {
        "id": "rYoyVciUKN91"
      },
      "execution_count": null,
      "outputs": []
    },
    {
      "cell_type": "code",
      "source": [
        "new_dataframe_4.drop(\"CPI\",inplace=True,axis=1)"
      ],
      "metadata": {
        "id": "qmiQP6MHKblf"
      },
      "execution_count": null,
      "outputs": []
    },
    {
      "cell_type": "code",
      "source": [
        "new_dataframe_4['Disaster Type'].value_counts()\n",
        "new_dataframe_4.columns"
      ],
      "metadata": {
        "colab": {
          "base_uri": "https://localhost:8080/"
        },
        "id": "JOkL39UnLFWf",
        "outputId": "ddbd1ac3-9664-44d3-e77c-1a7c54946e05"
      },
      "execution_count": null,
      "outputs": [
        {
          "output_type": "execute_result",
          "data": {
            "text/plain": [
              "Index(['Disaster Type', 'ISO', 'Location', 'Magnitude', 'Latitude',\n",
              "       'Longitude', 'Total Deaths', 'Total Affected', 'duration', 'time'],\n",
              "      dtype='object')"
            ]
          },
          "metadata": {},
          "execution_count": 99
        }
      ]
    },
    {
      "cell_type": "code",
      "source": [
        "new_dataframe_4.to_csv(\"final_dataset.csv\",index=False)"
      ],
      "metadata": {
        "id": "1fUBF4BsLe1z"
      },
      "execution_count": null,
      "outputs": []
    },
    {
      "cell_type": "code",
      "source": [],
      "metadata": {
        "id": "4XhnZ2fvLypb"
      },
      "execution_count": null,
      "outputs": []
    }
  ],
  "metadata": {
    "colab": {
      "provenance": [],
      "authorship_tag": "ABX9TyNiqBavVPu1OuoToHUVfkcY",
      "include_colab_link": true
    },
    "kernelspec": {
      "display_name": "Python 3",
      "name": "python3"
    },
    "language_info": {
      "name": "python"
    }
  },
  "nbformat": 4,
  "nbformat_minor": 0
}